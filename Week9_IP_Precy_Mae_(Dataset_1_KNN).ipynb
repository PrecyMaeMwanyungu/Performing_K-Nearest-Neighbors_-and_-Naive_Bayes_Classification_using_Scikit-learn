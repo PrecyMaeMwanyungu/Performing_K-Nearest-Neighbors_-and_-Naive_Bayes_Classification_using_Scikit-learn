{
  "nbformat": 4,
  "nbformat_minor": 0,
  "metadata": {
    "colab": {
      "name": "Week9_IP_Precy_Mae_(Dataset_1_KNN)",
      "provenance": [],
      "toc_visible": true,
      "authorship_tag": "ABX9TyO0orFMpNtWbwLaCGUyld+i",
      "include_colab_link": true
    },
    "kernelspec": {
      "name": "python3",
      "display_name": "Python 3"
    }
  },
  "cells": [
    {
      "cell_type": "markdown",
      "metadata": {
        "id": "view-in-github",
        "colab_type": "text"
      },
      "source": [
        "<a href=\"https://colab.research.google.com/github/PrecyMaeMwanyungu/Performing_K-Nearest-Neighbors_and_Naive_Bayes_Classification_using_Scikit-learn/blob/master/Week9_IP_Precy_Mae_(Dataset_1_KNN).ipynb\" target=\"_parent\"><img src=\"https://colab.research.google.com/assets/colab-badge.svg\" alt=\"Open In Colab\"/></a>"
      ]
    },
    {
      "cell_type": "markdown",
      "metadata": {
        "id": "-DrZeRyoaYbJ",
        "colab_type": "text"
      },
      "source": [
        "\n",
        "## Titanic Dataset using K Nearest Neighbor\n",
        "\n",
        "\n",
        "---\n",
        "\n",
        "\n"
      ]
    },
    {
      "cell_type": "markdown",
      "metadata": {
        "id": "Psv9_zOM3c0w",
        "colab_type": "text"
      },
      "source": [
        "# **1. Defining the Question**"
      ]
    },
    {
      "cell_type": "markdown",
      "metadata": {
        "id": "jqp6zBzM1c99",
        "colab_type": "text"
      },
      "source": [
        "# **2. Data cleaning and preparation**"
      ]
    },
    {
      "cell_type": "markdown",
      "metadata": {
        "id": "KiyO7YgT13K4",
        "colab_type": "text"
      },
      "source": [
        "## Loading libraries and dataset"
      ]
    },
    {
      "cell_type": "code",
      "metadata": {
        "id": "XAvPE4GGJBAf",
        "colab_type": "code",
        "colab": {}
      },
      "source": [
        "import numpy as np\n",
        "import pandas as pd\n",
        "import matplotlib.pyplot as plt\n",
        "import seaborn as sns\n",
        "% matplotlib inline"
      ],
      "execution_count": 137,
      "outputs": []
    },
    {
      "cell_type": "code",
      "metadata": {
        "id": "S1JERq0fayn9",
        "colab_type": "code",
        "colab": {
          "base_uri": "https://localhost:8080/",
          "height": 137
        },
        "outputId": "97374a99-67eb-4fb8-f81b-459384ff7250"
      },
      "source": [
        "train= pd.read_csv('/content/train (5).csv')\n",
        "test= pd.read_csv('/content/test (1) (1).csv')\n",
        "test.head(3)"
      ],
      "execution_count": 138,
      "outputs": [
        {
          "output_type": "execute_result",
          "data": {
            "text/html": [
              "<div>\n",
              "<style scoped>\n",
              "    .dataframe tbody tr th:only-of-type {\n",
              "        vertical-align: middle;\n",
              "    }\n",
              "\n",
              "    .dataframe tbody tr th {\n",
              "        vertical-align: top;\n",
              "    }\n",
              "\n",
              "    .dataframe thead th {\n",
              "        text-align: right;\n",
              "    }\n",
              "</style>\n",
              "<table border=\"1\" class=\"dataframe\">\n",
              "  <thead>\n",
              "    <tr style=\"text-align: right;\">\n",
              "      <th></th>\n",
              "      <th>PassengerId</th>\n",
              "      <th>Pclass</th>\n",
              "      <th>Name</th>\n",
              "      <th>Sex</th>\n",
              "      <th>Age</th>\n",
              "      <th>SibSp</th>\n",
              "      <th>Parch</th>\n",
              "      <th>Ticket</th>\n",
              "      <th>Fare</th>\n",
              "      <th>Cabin</th>\n",
              "      <th>Embarked</th>\n",
              "    </tr>\n",
              "  </thead>\n",
              "  <tbody>\n",
              "    <tr>\n",
              "      <th>0</th>\n",
              "      <td>892</td>\n",
              "      <td>3</td>\n",
              "      <td>Kelly, Mr. James</td>\n",
              "      <td>male</td>\n",
              "      <td>34.5</td>\n",
              "      <td>0</td>\n",
              "      <td>0</td>\n",
              "      <td>330911</td>\n",
              "      <td>7.8292</td>\n",
              "      <td>NaN</td>\n",
              "      <td>Q</td>\n",
              "    </tr>\n",
              "    <tr>\n",
              "      <th>1</th>\n",
              "      <td>893</td>\n",
              "      <td>3</td>\n",
              "      <td>Wilkes, Mrs. James (Ellen Needs)</td>\n",
              "      <td>female</td>\n",
              "      <td>47.0</td>\n",
              "      <td>1</td>\n",
              "      <td>0</td>\n",
              "      <td>363272</td>\n",
              "      <td>7.0000</td>\n",
              "      <td>NaN</td>\n",
              "      <td>S</td>\n",
              "    </tr>\n",
              "    <tr>\n",
              "      <th>2</th>\n",
              "      <td>894</td>\n",
              "      <td>2</td>\n",
              "      <td>Myles, Mr. Thomas Francis</td>\n",
              "      <td>male</td>\n",
              "      <td>62.0</td>\n",
              "      <td>0</td>\n",
              "      <td>0</td>\n",
              "      <td>240276</td>\n",
              "      <td>9.6875</td>\n",
              "      <td>NaN</td>\n",
              "      <td>Q</td>\n",
              "    </tr>\n",
              "  </tbody>\n",
              "</table>\n",
              "</div>"
            ],
            "text/plain": [
              "   PassengerId  Pclass                              Name  ...    Fare  Cabin  Embarked\n",
              "0          892       3                  Kelly, Mr. James  ...  7.8292    NaN         Q\n",
              "1          893       3  Wilkes, Mrs. James (Ellen Needs)  ...  7.0000    NaN         S\n",
              "2          894       2         Myles, Mr. Thomas Francis  ...  9.6875    NaN         Q\n",
              "\n",
              "[3 rows x 11 columns]"
            ]
          },
          "metadata": {
            "tags": []
          },
          "execution_count": 138
        }
      ]
    },
    {
      "cell_type": "code",
      "metadata": {
        "id": "bu6D0LaHJtgk",
        "colab_type": "code",
        "colab": {
          "base_uri": "https://localhost:8080/",
          "height": 171
        },
        "outputId": "18cd93ee-b823-429a-be69-33f19ae24223"
      },
      "source": [
        "train.head(3)"
      ],
      "execution_count": 139,
      "outputs": [
        {
          "output_type": "execute_result",
          "data": {
            "text/html": [
              "<div>\n",
              "<style scoped>\n",
              "    .dataframe tbody tr th:only-of-type {\n",
              "        vertical-align: middle;\n",
              "    }\n",
              "\n",
              "    .dataframe tbody tr th {\n",
              "        vertical-align: top;\n",
              "    }\n",
              "\n",
              "    .dataframe thead th {\n",
              "        text-align: right;\n",
              "    }\n",
              "</style>\n",
              "<table border=\"1\" class=\"dataframe\">\n",
              "  <thead>\n",
              "    <tr style=\"text-align: right;\">\n",
              "      <th></th>\n",
              "      <th>PassengerId</th>\n",
              "      <th>Survived</th>\n",
              "      <th>Pclass</th>\n",
              "      <th>Name</th>\n",
              "      <th>Sex</th>\n",
              "      <th>Age</th>\n",
              "      <th>SibSp</th>\n",
              "      <th>Parch</th>\n",
              "      <th>Ticket</th>\n",
              "      <th>Fare</th>\n",
              "      <th>Cabin</th>\n",
              "      <th>Embarked</th>\n",
              "    </tr>\n",
              "  </thead>\n",
              "  <tbody>\n",
              "    <tr>\n",
              "      <th>0</th>\n",
              "      <td>1</td>\n",
              "      <td>0</td>\n",
              "      <td>3</td>\n",
              "      <td>Braund, Mr. Owen Harris</td>\n",
              "      <td>male</td>\n",
              "      <td>22.0</td>\n",
              "      <td>1</td>\n",
              "      <td>0</td>\n",
              "      <td>A/5 21171</td>\n",
              "      <td>7.2500</td>\n",
              "      <td>NaN</td>\n",
              "      <td>S</td>\n",
              "    </tr>\n",
              "    <tr>\n",
              "      <th>1</th>\n",
              "      <td>2</td>\n",
              "      <td>1</td>\n",
              "      <td>1</td>\n",
              "      <td>Cumings, Mrs. John Bradley (Florence Briggs Th...</td>\n",
              "      <td>female</td>\n",
              "      <td>38.0</td>\n",
              "      <td>1</td>\n",
              "      <td>0</td>\n",
              "      <td>PC 17599</td>\n",
              "      <td>71.2833</td>\n",
              "      <td>C85</td>\n",
              "      <td>C</td>\n",
              "    </tr>\n",
              "    <tr>\n",
              "      <th>2</th>\n",
              "      <td>3</td>\n",
              "      <td>1</td>\n",
              "      <td>3</td>\n",
              "      <td>Heikkinen, Miss. Laina</td>\n",
              "      <td>female</td>\n",
              "      <td>26.0</td>\n",
              "      <td>0</td>\n",
              "      <td>0</td>\n",
              "      <td>STON/O2. 3101282</td>\n",
              "      <td>7.9250</td>\n",
              "      <td>NaN</td>\n",
              "      <td>S</td>\n",
              "    </tr>\n",
              "  </tbody>\n",
              "</table>\n",
              "</div>"
            ],
            "text/plain": [
              "   PassengerId  Survived  Pclass  ...     Fare Cabin  Embarked\n",
              "0            1         0       3  ...   7.2500   NaN         S\n",
              "1            2         1       1  ...  71.2833   C85         C\n",
              "2            3         1       3  ...   7.9250   NaN         S\n",
              "\n",
              "[3 rows x 12 columns]"
            ]
          },
          "metadata": {
            "tags": []
          },
          "execution_count": 139
        }
      ]
    },
    {
      "cell_type": "markdown",
      "metadata": {
        "id": "WjtKf4wo9fhy",
        "colab_type": "text"
      },
      "source": [
        "## Checking our datasets"
      ]
    },
    {
      "cell_type": "code",
      "metadata": {
        "id": "pAZdAuY0KHKa",
        "colab_type": "code",
        "colab": {
          "base_uri": "https://localhost:8080/",
          "height": 52
        },
        "outputId": "664155be-ed86-42e0-8e4a-5f3dabdd5ef7"
      },
      "source": [
        "# Shape of dataset\n",
        "print(\"train rows and columns\",train.shape)\n",
        "print(\"test rows and columns\",test.shape)"
      ],
      "execution_count": 140,
      "outputs": [
        {
          "output_type": "stream",
          "text": [
            "train rows and columns (891, 12)\n",
            "test rows and columns (418, 11)\n"
          ],
          "name": "stdout"
        }
      ]
    },
    {
      "cell_type": "code",
      "metadata": {
        "id": "JCjYEfsS9qV-",
        "colab_type": "code",
        "colab": {
          "base_uri": "https://localhost:8080/",
          "height": 247
        },
        "outputId": "7002e150-02d1-426b-e4cf-cafd1c5ad357"
      },
      "source": [
        "# Checking our column datatypes\n",
        "train.dtypes"
      ],
      "execution_count": 141,
      "outputs": [
        {
          "output_type": "execute_result",
          "data": {
            "text/plain": [
              "PassengerId      int64\n",
              "Survived         int64\n",
              "Pclass           int64\n",
              "Name            object\n",
              "Sex             object\n",
              "Age            float64\n",
              "SibSp            int64\n",
              "Parch            int64\n",
              "Ticket          object\n",
              "Fare           float64\n",
              "Cabin           object\n",
              "Embarked        object\n",
              "dtype: object"
            ]
          },
          "metadata": {
            "tags": []
          },
          "execution_count": 141
        }
      ]
    },
    {
      "cell_type": "code",
      "metadata": {
        "id": "pzITbmXUYwJY",
        "colab_type": "code",
        "colab": {
          "base_uri": "https://localhost:8080/",
          "height": 247
        },
        "outputId": "4be41ea8-9060-4088-d46c-46452e27f365"
      },
      "source": [
        "# Changing the column datatypes (object) of the data we'll be using into category\n",
        "train['Name'] = train.Name.astype('category')\n",
        "train['Sex'] = train.Sex.astype('category')\n",
        "train['Ticket'] = train.Ticket.astype('category')\n",
        "train['Cabin'] = train.Cabin.astype('category')\n",
        "train['Survived'] = train.Survived.astype('category')\n",
        "train['Embarked'] = train.Embarked.astype('category')\n",
        "train.dtypes"
      ],
      "execution_count": 142,
      "outputs": [
        {
          "output_type": "execute_result",
          "data": {
            "text/plain": [
              "PassengerId       int64\n",
              "Survived       category\n",
              "Pclass            int64\n",
              "Name           category\n",
              "Sex            category\n",
              "Age             float64\n",
              "SibSp             int64\n",
              "Parch             int64\n",
              "Ticket         category\n",
              "Fare            float64\n",
              "Cabin          category\n",
              "Embarked       category\n",
              "dtype: object"
            ]
          },
          "metadata": {
            "tags": []
          },
          "execution_count": 142
        }
      ]
    },
    {
      "cell_type": "markdown",
      "metadata": {
        "id": "-U4ZCwO4b_K3",
        "colab_type": "text"
      },
      "source": [
        "Our categorical features are now in category form"
      ]
    },
    {
      "cell_type": "markdown",
      "metadata": {
        "id": "pYk7WiNX6Awn",
        "colab_type": "text"
      },
      "source": [
        "## Dealing with missing data\n"
      ]
    },
    {
      "cell_type": "code",
      "metadata": {
        "id": "1F-XQsNf6EYm",
        "colab_type": "code",
        "colab": {
          "base_uri": "https://localhost:8080/",
          "height": 550
        },
        "outputId": "7d41442b-52c5-43fa-910e-3bb854adeb73"
      },
      "source": [
        "# Checking for missing data\n",
        "print(\"Missing values in train\")\n",
        "print(\"\")\n",
        "print(train.isnull().sum())\n",
        "# \n",
        "print(\"\")\n",
        "print(\"Missing values in test\")\n",
        "print(\"\")\n",
        "print(test.isnull().sum())"
      ],
      "execution_count": 143,
      "outputs": [
        {
          "output_type": "stream",
          "text": [
            "Missing values in train\n",
            "\n",
            "PassengerId      0\n",
            "Survived         0\n",
            "Pclass           0\n",
            "Name             0\n",
            "Sex              0\n",
            "Age            177\n",
            "SibSp            0\n",
            "Parch            0\n",
            "Ticket           0\n",
            "Fare             0\n",
            "Cabin          687\n",
            "Embarked         2\n",
            "dtype: int64\n",
            "\n",
            "Missing values in test\n",
            "\n",
            "PassengerId      0\n",
            "Pclass           0\n",
            "Name             0\n",
            "Sex              0\n",
            "Age             86\n",
            "SibSp            0\n",
            "Parch            0\n",
            "Ticket           0\n",
            "Fare             1\n",
            "Cabin          327\n",
            "Embarked         0\n",
            "dtype: int64\n"
          ],
          "name": "stdout"
        }
      ]
    },
    {
      "cell_type": "markdown",
      "metadata": {
        "id": "ut_nbafQ6ruH",
        "colab_type": "text"
      },
      "source": [
        "There are missing values in Fare, Cabin, age and embarked"
      ]
    },
    {
      "cell_type": "code",
      "metadata": {
        "id": "_I0HTwF7DYEa",
        "colab_type": "code",
        "colab": {}
      },
      "source": [
        "# Filling missing values in train dataset\n",
        "#\n",
        "# Filling missing values in age with the mean\n",
        "train['Age']=train['Age'].fillna(train['Age'].mean())\n",
        "#\n",
        "# Filling missing values in cabin with the \n",
        "train['Cabin']=train['Cabin'].fillna(train['Cabin'].mode().iloc[0])\n",
        "#\n",
        "train['Embarked']=train['Embarked'].fillna(train['Embarked'].mode().iloc[0])\n"
      ],
      "execution_count": 144,
      "outputs": []
    },
    {
      "cell_type": "code",
      "metadata": {
        "id": "2_wbpoDcGA-G",
        "colab_type": "code",
        "colab": {}
      },
      "source": [
        "# Filling missing values in test dataset\n",
        "\n",
        "# Filling missing values in age with the mean\n",
        "test['Age']=test['Age'].fillna(test['Age'].mean())\n",
        "#\n",
        "test['Fare']=test['Fare'].fillna(test['Fare'].mean())\n",
        "#\n",
        "# Filling missing values in cabin with the mode\n",
        "test['Cabin']=test['Cabin'].fillna(test['Cabin'].mode().iloc[0])"
      ],
      "execution_count": 145,
      "outputs": []
    },
    {
      "cell_type": "code",
      "metadata": {
        "id": "ufLg0zrJGjmi",
        "colab_type": "code",
        "colab": {
          "base_uri": "https://localhost:8080/",
          "height": 550
        },
        "outputId": "81ab2896-c15d-47b7-e2c5-b1693b892a88"
      },
      "source": [
        "# Confirming that our null valeus are replaced \n",
        "print(\"Missing values in train\")\n",
        "print(\"\")\n",
        "print(train.isnull().sum())\n",
        "# \n",
        "print(\"\")\n",
        "print(\"Missing values in test\")\n",
        "print(\"\")\n",
        "print(test.isnull().sum())"
      ],
      "execution_count": 146,
      "outputs": [
        {
          "output_type": "stream",
          "text": [
            "Missing values in train\n",
            "\n",
            "PassengerId    0\n",
            "Survived       0\n",
            "Pclass         0\n",
            "Name           0\n",
            "Sex            0\n",
            "Age            0\n",
            "SibSp          0\n",
            "Parch          0\n",
            "Ticket         0\n",
            "Fare           0\n",
            "Cabin          0\n",
            "Embarked       0\n",
            "dtype: int64\n",
            "\n",
            "Missing values in test\n",
            "\n",
            "PassengerId    0\n",
            "Pclass         0\n",
            "Name           0\n",
            "Sex            0\n",
            "Age            0\n",
            "SibSp          0\n",
            "Parch          0\n",
            "Ticket         0\n",
            "Fare           0\n",
            "Cabin          0\n",
            "Embarked       0\n",
            "dtype: int64\n"
          ],
          "name": "stdout"
        }
      ]
    },
    {
      "cell_type": "markdown",
      "metadata": {
        "id": "0Cjn6WgSGytW",
        "colab_type": "text"
      },
      "source": [
        "We have dealt with missing values in our datasets"
      ]
    },
    {
      "cell_type": "code",
      "metadata": {
        "id": "lYz7GzMWqh6Q",
        "colab_type": "code",
        "colab": {
          "base_uri": "https://localhost:8080/",
          "height": 107
        },
        "outputId": "eec82344-f3d2-4cb3-efdb-1e1a0381b1d4"
      },
      "source": [
        "# Data cleaning procedures, fixing column names\n",
        "#\n",
        "train.columns= train.columns.str.strip().str.lower().str.replace(' ','_')\n",
        "train.head(2)"
      ],
      "execution_count": 147,
      "outputs": [
        {
          "output_type": "execute_result",
          "data": {
            "text/html": [
              "<div>\n",
              "<style scoped>\n",
              "    .dataframe tbody tr th:only-of-type {\n",
              "        vertical-align: middle;\n",
              "    }\n",
              "\n",
              "    .dataframe tbody tr th {\n",
              "        vertical-align: top;\n",
              "    }\n",
              "\n",
              "    .dataframe thead th {\n",
              "        text-align: right;\n",
              "    }\n",
              "</style>\n",
              "<table border=\"1\" class=\"dataframe\">\n",
              "  <thead>\n",
              "    <tr style=\"text-align: right;\">\n",
              "      <th></th>\n",
              "      <th>passengerid</th>\n",
              "      <th>survived</th>\n",
              "      <th>pclass</th>\n",
              "      <th>name</th>\n",
              "      <th>sex</th>\n",
              "      <th>age</th>\n",
              "      <th>sibsp</th>\n",
              "      <th>parch</th>\n",
              "      <th>ticket</th>\n",
              "      <th>fare</th>\n",
              "      <th>cabin</th>\n",
              "      <th>embarked</th>\n",
              "    </tr>\n",
              "  </thead>\n",
              "  <tbody>\n",
              "    <tr>\n",
              "      <th>0</th>\n",
              "      <td>1</td>\n",
              "      <td>0</td>\n",
              "      <td>3</td>\n",
              "      <td>Braund, Mr. Owen Harris</td>\n",
              "      <td>male</td>\n",
              "      <td>22.0</td>\n",
              "      <td>1</td>\n",
              "      <td>0</td>\n",
              "      <td>A/5 21171</td>\n",
              "      <td>7.2500</td>\n",
              "      <td>B96 B98</td>\n",
              "      <td>S</td>\n",
              "    </tr>\n",
              "    <tr>\n",
              "      <th>1</th>\n",
              "      <td>2</td>\n",
              "      <td>1</td>\n",
              "      <td>1</td>\n",
              "      <td>Cumings, Mrs. John Bradley (Florence Briggs Th...</td>\n",
              "      <td>female</td>\n",
              "      <td>38.0</td>\n",
              "      <td>1</td>\n",
              "      <td>0</td>\n",
              "      <td>PC 17599</td>\n",
              "      <td>71.2833</td>\n",
              "      <td>C85</td>\n",
              "      <td>C</td>\n",
              "    </tr>\n",
              "  </tbody>\n",
              "</table>\n",
              "</div>"
            ],
            "text/plain": [
              "   passengerid survived  pclass  ...     fare    cabin  embarked\n",
              "0            1        0       3  ...   7.2500  B96 B98         S\n",
              "1            2        1       1  ...  71.2833      C85         C\n",
              "\n",
              "[2 rows x 12 columns]"
            ]
          },
          "metadata": {
            "tags": []
          },
          "execution_count": 147
        }
      ]
    },
    {
      "cell_type": "markdown",
      "metadata": {
        "id": "OSEkxHj7cOSz",
        "colab_type": "text"
      },
      "source": [
        "Our columns names are now in lowercase[link text](https://)"
      ]
    },
    {
      "cell_type": "code",
      "metadata": {
        "id": "vuOH31g3eNPP",
        "colab_type": "code",
        "colab": {
          "base_uri": "https://localhost:8080/",
          "height": 70
        },
        "outputId": "466c87e4-7077-4338-c813-f3f3908d1dd0"
      },
      "source": [
        "train.columns"
      ],
      "execution_count": 148,
      "outputs": [
        {
          "output_type": "execute_result",
          "data": {
            "text/plain": [
              "Index(['passengerid', 'survived', 'pclass', 'name', 'sex', 'age', 'sibsp',\n",
              "       'parch', 'ticket', 'fare', 'cabin', 'embarked'],\n",
              "      dtype='object')"
            ]
          },
          "metadata": {
            "tags": []
          },
          "execution_count": 148
        }
      ]
    },
    {
      "cell_type": "code",
      "metadata": {
        "id": "rXB8FP9acSmS",
        "colab_type": "code",
        "colab": {
          "base_uri": "https://localhost:8080/",
          "height": 528
        },
        "outputId": "35e335b4-e949-4970-e4d4-155cedf207ec"
      },
      "source": [
        "# Checking for outliers\n",
        "fig, ((ax1),(ax2)) = plt.subplots(2 ,figsize=(10, 7))\n",
        "fig.suptitle('Boxplots')\n",
        "print('\\n')\n",
        "sns.boxplot(train['age'], ax=ax1, color='blue')\n",
        "sns.boxplot(train['fare'], ax=ax2, color='blue')\n",
        "\n",
        "\n",
        "plt.show()"
      ],
      "execution_count": 149,
      "outputs": [
        {
          "output_type": "stream",
          "text": [
            "\n",
            "\n"
          ],
          "name": "stdout"
        },
        {
          "output_type": "display_data",
          "data": {
            "image/png": "[encoded data removed]",
            "text/plain": [
              "<Figure size 720x504 with 2 Axes>"
            ]
          },
          "metadata": {
            "tags": [],
            "needs_background": "light"
          }
        }
      ]
    },
    {
      "cell_type": "code",
      "metadata": {
        "id": "p5_SiuEaejys",
        "colab_type": "code",
        "colab": {}
      },
      "source": [
        "# Removing outliers\n",
        "plt.figure(figsize=(12,6))\n",
        "sns.boxplot(normal[(normal >= fence_low) & (normal <= fence_high)])"
      ],
      "execution_count": 150,
      "outputs": []
    },
    {
      "cell_type": "markdown",
      "metadata": {
        "id": "sqm58no21_Im",
        "colab_type": "text"
      },
      "source": [
        "# **3. Perform EDA**"
      ]
    },
    {
      "cell_type": "code",
      "metadata": {
        "id": "Ybibu4_L1YmK",
        "colab_type": "code",
        "colab": {}
      },
      "source": [
        ""
      ],
      "execution_count": 150,
      "outputs": []
    },
    {
      "cell_type": "markdown",
      "metadata": {
        "id": "6DmycJub2Kdl",
        "colab_type": "text"
      },
      "source": [
        "# **4. Splitting dataset** "
      ]
    },
    {
      "cell_type": "markdown",
      "metadata": {
        "id": "NzIXxm1VA7qk",
        "colab_type": "text"
      },
      "source": [
        "## Splitting dataset"
      ]
    },
    {
      "cell_type": "code",
      "metadata": {
        "id": "vU1EszurBRub",
        "colab_type": "code",
        "colab": {}
      },
      "source": [
        "# Dropping irrelevant columns\n",
        "train.drop(['name', 'passengerid','ticket'], axis = 1, inplace= True) "
      ],
      "execution_count": 151,
      "outputs": []
    },
    {
      "cell_type": "code",
      "metadata": {
        "id": "2JDFVFU_lUgT",
        "colab_type": "code",
        "colab": {
          "base_uri": "https://localhost:8080/",
          "height": 107
        },
        "outputId": "8e62ff9a-7789-462a-b6f3-b9e10ba55dfe"
      },
      "source": [
        "# Scaling our numerical features to a standard normal distribution\n",
        "from sklearn.preprocessing import StandardScaler\n",
        "StandardScaler= StandardScaler()\n",
        "columns_to_scale=['age','fare']\n",
        "\n",
        "train[columns_to_scale]= StandardScaler.fit_transform(train[columns_to_scale])\n",
        "train.head(2)"
      ],
      "execution_count": 152,
      "outputs": [
        {
          "output_type": "execute_result",
          "data": {
            "text/html": [
              "<div>\n",
              "<style scoped>\n",
              "    .dataframe tbody tr th:only-of-type {\n",
              "        vertical-align: middle;\n",
              "    }\n",
              "\n",
              "    .dataframe tbody tr th {\n",
              "        vertical-align: top;\n",
              "    }\n",
              "\n",
              "    .dataframe thead th {\n",
              "        text-align: right;\n",
              "    }\n",
              "</style>\n",
              "<table border=\"1\" class=\"dataframe\">\n",
              "  <thead>\n",
              "    <tr style=\"text-align: right;\">\n",
              "      <th></th>\n",
              "      <th>survived</th>\n",
              "      <th>pclass</th>\n",
              "      <th>sex</th>\n",
              "      <th>age</th>\n",
              "      <th>sibsp</th>\n",
              "      <th>parch</th>\n",
              "      <th>fare</th>\n",
              "      <th>cabin</th>\n",
              "      <th>embarked</th>\n",
              "    </tr>\n",
              "  </thead>\n",
              "  <tbody>\n",
              "    <tr>\n",
              "      <th>0</th>\n",
              "      <td>0</td>\n",
              "      <td>3</td>\n",
              "      <td>male</td>\n",
              "      <td>-0.592481</td>\n",
              "      <td>1</td>\n",
              "      <td>0</td>\n",
              "      <td>-0.502445</td>\n",
              "      <td>B96 B98</td>\n",
              "      <td>S</td>\n",
              "    </tr>\n",
              "    <tr>\n",
              "      <th>1</th>\n",
              "      <td>1</td>\n",
              "      <td>1</td>\n",
              "      <td>female</td>\n",
              "      <td>0.638789</td>\n",
              "      <td>1</td>\n",
              "      <td>0</td>\n",
              "      <td>0.786845</td>\n",
              "      <td>C85</td>\n",
              "      <td>C</td>\n",
              "    </tr>\n",
              "  </tbody>\n",
              "</table>\n",
              "</div>"
            ],
            "text/plain": [
              "  survived  pclass     sex       age  sibsp  parch      fare    cabin embarked\n",
              "0        0       3    male -0.592481      1      0 -0.502445  B96 B98        S\n",
              "1        1       1  female  0.638789      1      0  0.786845      C85        C"
            ]
          },
          "metadata": {
            "tags": []
          },
          "execution_count": 152
        }
      ]
    },
    {
      "cell_type": "code",
      "metadata": {
        "id": "KRmddaVl2STf",
        "colab_type": "code",
        "colab": {}
      },
      "source": [
        "# Splitting our dataset\n",
        "X=train.loc[:, train.columns != 'survived'] # Independent variables\n",
        "\n",
        "y= train.iloc[:, train.columns == 'survived'] # Dependent variable\n"
      ],
      "execution_count": 163,
      "outputs": []
    },
    {
      "cell_type": "markdown",
      "metadata": {
        "id": "x3AfDrV_A_4O",
        "colab_type": "text"
      },
      "source": [
        "## Get dummies"
      ]
    },
    {
      "cell_type": "code",
      "metadata": {
        "id": "jVvKKR-4uumY",
        "colab_type": "code",
        "colab": {}
      },
      "source": [
        ""
      ],
      "execution_count": null,
      "outputs": []
    },
    {
      "cell_type": "code",
      "metadata": {
        "id": "tE97Ki5KBDID",
        "colab_type": "code",
        "colab": {}
      },
      "source": [
        " # Converting categorical columns to binary\n",
        "cat_columns=['age','sex','cabin','embarked','survived']\n",
        "# Import label encoder\n",
        " from sklearn.preprocessing import LabelEncoder\n",
        " lbl_encoders={}\n",
        " for column in cat_columns:\n",
        "   lbl_encoders[column]=LabelEncoder()\n",
        "   train[column]= lbl_encoders[column].fit_transform(train[column])"
      ],
      "execution_count": 164,
      "outputs": []
    },
    {
      "cell_type": "markdown",
      "metadata": {
        "id": "xJjyoGP92S5_",
        "colab_type": "text"
      },
      "source": [
        "# **5. Modelling**"
      ]
    },
    {
      "cell_type": "markdown",
      "metadata": {
        "id": "EH0pDIN3_2I9",
        "colab_type": "text"
      },
      "source": [
        "## Base model"
      ]
    },
    {
      "cell_type": "code",
      "metadata": {
        "id": "NIVLnISY26t_",
        "colab_type": "code",
        "colab": {}
      },
      "source": [
        "from sklearn.model_selection import train_test_split\n",
        "X_train, X_test, y_train, y_test = train_test_split(X, y, test_size = 0.2, random_state = 0)"
      ],
      "execution_count": 165,
      "outputs": []
    },
    {
      "cell_type": "code",
      "metadata": {
        "id": "kMQVu1sWAPeH",
        "colab_type": "code",
        "colab": {}
      },
      "source": [
        "# Importing and running our model\n",
        "from sklearn.neighbors import KNeighborsClassifier\n",
        "knn = KNeighborsClassifier(n_neighbors=3)"
      ],
      "execution_count": 166,
      "outputs": []
    },
    {
      "cell_type": "code",
      "metadata": {
        "id": "E2SiI9OxmhiJ",
        "colab_type": "code",
        "colab": {
          "base_uri": "https://localhost:8080/",
          "height": 125
        },
        "outputId": "2d6e7092-5989-464b-c59e-74f2b7a2d8a1"
      },
      "source": [
        "# Fitting our model\n",
        "knn.fit(X_train,y_train)"
      ],
      "execution_count": 167,
      "outputs": [
        {
          "output_type": "stream",
          "text": [
            "/usr/local/lib/python3.6/dist-packages/ipykernel_launcher.py:2: DataConversionWarning: A column-vector y was passed when a 1d array was expected. Please change the shape of y to (n_samples, ), for example using ravel().\n",
            "  \n"
          ],
          "name": "stderr"
        },
        {
          "output_type": "execute_result",
          "data": {
            "text/plain": [
              "KNeighborsClassifier(algorithm='auto', leaf_size=30, metric='minkowski',\n",
              "                     metric_params=None, n_jobs=None, n_neighbors=3, p=2,\n",
              "                     weights='uniform')"
            ]
          },
          "metadata": {
            "tags": []
          },
          "execution_count": 167
        }
      ]
    },
    {
      "cell_type": "code",
      "metadata": {
        "id": "97dRsojRjWi9",
        "colab_type": "code",
        "colab": {}
      },
      "source": [
        "# Predictions\n",
        "predict = knn.predict(X_test)"
      ],
      "execution_count": 168,
      "outputs": []
    },
    {
      "cell_type": "code",
      "metadata": {
        "id": "pe4nZCNvmvBT",
        "colab_type": "code",
        "colab": {
          "base_uri": "https://localhost:8080/",
          "height": 34
        },
        "outputId": "ea15235f-2aae-470b-ff3a-747207a5e0c9"
      },
      "source": [
        "from sklearn import metrics\n",
        "print(\"Accuracy:\",metrics.accuracy_score(y_test, predict))"
      ],
      "execution_count": 169,
      "outputs": [
        {
          "output_type": "stream",
          "text": [
            "Accuracy: 0.7262569832402235\n"
          ],
          "name": "stdout"
        }
      ]
    },
    {
      "cell_type": "code",
      "metadata": {
        "id": "ze3kmdFKj-tF",
        "colab_type": "code",
        "colab": {
          "base_uri": "https://localhost:8080/",
          "height": 52
        },
        "outputId": "74748a4c-621a-45a4-c16c-437b04376a20"
      },
      "source": [
        "# Confusion matrix\n",
        "from sklearn.metrics import classification_report,confusion_matrix\n",
        "print(confusion_matrix(y_test,predict))"
      ],
      "execution_count": 170,
      "outputs": [
        {
          "output_type": "stream",
          "text": [
            "[[93 17]\n",
            " [32 37]]\n"
          ],
          "name": "stdout"
        }
      ]
    },
    {
      "cell_type": "markdown",
      "metadata": {
        "id": "5fjl-PTln4qu",
        "colab_type": "text"
      },
      "source": [
        "## Improving perfomance"
      ]
    },
    {
      "cell_type": "code",
      "metadata": {
        "id": "bGgxCB7JraIi",
        "colab_type": "code",
        "colab": {
          "base_uri": "https://localhost:8080/",
          "height": 72
        },
        "outputId": "894692b6-9dc5-4d31-b6c9-2f167153549b"
      },
      "source": [
        "# Improving our model using  LDA\n",
        "from sklearn.discriminant_analysis import LinearDiscriminantAnalysis as LDA\n",
        "lda = LDA(n_components=1)\n",
        "X_train = lda.fit_transform(X_train, y_train)\n",
        "X_test = lda.transform(X_test)"
      ],
      "execution_count": 171,
      "outputs": [
        {
          "output_type": "stream",
          "text": [
            "/usr/local/lib/python3.6/dist-packages/sklearn/utils/validation.py:760: DataConversionWarning: A column-vector y was passed when a 1d array was expected. Please change the shape of y to (n_samples, ), for example using ravel().\n",
            "  y = column_or_1d(y, warn=True)\n"
          ],
          "name": "stderr"
        }
      ]
    },
    {
      "cell_type": "code",
      "metadata": {
        "colab_type": "code",
        "id": "i8MigcqGxhA1",
        "colab": {}
      },
      "source": [
        "# Importing and running our model\n",
        "from sklearn.neighbors import KNeighborsClassifier\n",
        "KNN = KNeighborsClassifier(n_neighbors=3)"
      ],
      "execution_count": 176,
      "outputs": []
    },
    {
      "cell_type": "code",
      "metadata": {
        "colab_type": "code",
        "id": "QNCGTHgG1cnR",
        "colab": {
          "base_uri": "https://localhost:8080/",
          "height": 125
        },
        "outputId": "98370690-a2f4-49d0-b64d-d601699a196d"
      },
      "source": [
        "# Fitting our model\n",
        "KNN.fit(X_train,y_train)"
      ],
      "execution_count": 179,
      "outputs": [
        {
          "output_type": "stream",
          "text": [
            "/usr/local/lib/python3.6/dist-packages/ipykernel_launcher.py:2: DataConversionWarning: A column-vector y was passed when a 1d array was expected. Please change the shape of y to (n_samples, ), for example using ravel().\n",
            "  \n"
          ],
          "name": "stderr"
        },
        {
          "output_type": "execute_result",
          "data": {
            "text/plain": [
              "KNeighborsClassifier(algorithm='auto', leaf_size=30, metric='minkowski',\n",
              "                     metric_params=None, n_jobs=None, n_neighbors=3, p=2,\n",
              "                     weights='uniform')"
            ]
          },
          "metadata": {
            "tags": []
          },
          "execution_count": 179
        }
      ]
    },
    {
      "cell_type": "code",
      "metadata": {
        "colab_type": "code",
        "id": "Jlm-b4EHxWNU",
        "colab": {}
      },
      "source": [
        "# Predictions\n",
        "p = KNN.predict(X_test)"
      ],
      "execution_count": 180,
      "outputs": []
    },
    {
      "cell_type": "code",
      "metadata": {
        "colab_type": "code",
        "id": "I8rsUxaF1yOV",
        "colab": {
          "base_uri": "https://localhost:8080/",
          "height": 34
        },
        "outputId": "1374fa2d-19d0-4f0b-ebab-45aaf57a0cff"
      },
      "source": [
        "from sklearn import metrics\n",
        "print(\"Accuracy:\",metrics.accuracy_score(y_test, p))"
      ],
      "execution_count": 181,
      "outputs": [
        {
          "output_type": "stream",
          "text": [
            "Accuracy: 0.7541899441340782\n"
          ],
          "name": "stdout"
        }
      ]
    },
    {
      "cell_type": "markdown",
      "metadata": {
        "id": "myF2xC_5mvr7",
        "colab_type": "text"
      },
      "source": [
        "# **6. Testing the model**"
      ]
    },
    {
      "cell_type": "code",
      "metadata": {
        "id": "PdQj1lH9m12I",
        "colab_type": "code",
        "colab": {}
      },
      "source": [
        ""
      ],
      "execution_count": null,
      "outputs": []
    },
    {
      "cell_type": "markdown",
      "metadata": {
        "id": "0Q7Ax59u2aMN",
        "colab_type": "text"
      },
      "source": [
        "# **7. Conclusion** "
      ]
    },
    {
      "cell_type": "code",
      "metadata": {
        "id": "APwsnq_h2SL2",
        "colab_type": "code",
        "colab": {}
      },
      "source": [
        ""
      ],
      "execution_count": null,
      "outputs": []
    },
    {
      "cell_type": "markdown",
      "metadata": {
        "id": "PTTzLFyd2uuF",
        "colab_type": "text"
      },
      "source": [
        "# **8. Challenging the Solution**"
      ]
    },
    {
      "cell_type": "code",
      "metadata": {
        "id": "0hJu3oNJ23NF",
        "colab_type": "code",
        "colab": {}
      },
      "source": [
        ""
      ],
      "execution_count": null,
      "outputs": []
    }
  ]
}